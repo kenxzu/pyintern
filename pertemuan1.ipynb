{
 "cells": [
  {
   "cell_type": "code",
   "execution_count": null,
   "id": "dfab111e",
   "metadata": {},
   "outputs": [
    {
     "name": "stdout",
     "output_type": "stream",
     "text": [
      "1\n",
      "2\n",
      "end\n"
     ]
    }
   ],
   "source": [
    "a = 1\n",
    "b = 2\n",
    "if a == 1 : \n",
    "    print(a)\n",
    "    \n",
    "    if b == 2 :\n",
    "        print(b)\n",
    "        \n",
    "        \n",
    "        \n",
    "print('end')"
   ]
  },
  {
   "cell_type": "code",
   "execution_count": 8,
   "id": "41cde67e",
   "metadata": {},
   "outputs": [
    {
     "data": {
      "text/plain": [
       "int"
      ]
     },
     "execution_count": 8,
     "metadata": {},
     "output_type": "execute_result"
    }
   ],
   "source": [
    "a = 4   \n",
    "type(a)"
   ]
  },
  {
   "cell_type": "code",
   "execution_count": 10,
   "id": "fd97aec0",
   "metadata": {},
   "outputs": [
    {
     "name": "stdout",
     "output_type": "stream",
     "text": [
      "first single sub-stirng is  H\n",
      "set of sub-string :  rin\n"
     ]
    }
   ],
   "source": [
    "ch = 'Hello Python'\n",
    "str1 = \"String Chapter\"\n",
    "\n",
    "\n",
    "print(\"first single sub-stirng is \", ch[0])\n",
    "print(\"set of sub-string : \", str1[2:5]);\n"
   ]
  },
  {
   "cell_type": "code",
   "execution_count": 11,
   "id": "5f35d017",
   "metadata": {},
   "outputs": [
    {
     "name": "stdout",
     "output_type": "stream",
     "text": [
      "10:00pagi\n"
     ]
    }
   ],
   "source": [
    "J = 'pagi'\n",
    "H = '10:00'\n",
    "\n",
    "print('{}{}'.format(H,J))"
   ]
  },
  {
   "cell_type": "code",
   "execution_count": null,
   "id": "ef835a58",
   "metadata": {},
   "outputs": [
    {
     "data": {
      "text/plain": [
       "['Selamat Pagi']"
      ]
     },
     "execution_count": 12,
     "metadata": {},
     "output_type": "execute_result"
    }
   ],
   "source": [
    "h = 'Selamat Pagi'\n",
    "\n",
    "h.upper()\n",
    "\n",
    "h.lower() \n",
    "\n",
    "h.split(',')\n",
    "\n"
   ]
  },
  {
   "cell_type": "code",
   "execution_count": null,
   "id": "c7b672a0",
   "metadata": {},
   "outputs": [
    {
     "name": "stdout",
     "output_type": "stream",
     "text": [
      "sabtu\n",
      "['selasa', 'rabu', 'kamis', 'jumat', 'sabtu', 'minggu', 'minggu1']\n",
      "Ani\n",
      "{'0002': 'Ani', '0003': 'Siti'}\n"
     ]
    }
   ],
   "source": [
    "#escape character#\n",
    "#delete space\n",
    "#type data(data structure - LIST, )\n",
    "\n",
    "\n",
    "days = ['senin', 'selasa', 'rabu', 'kamis', 'jumat', 'sabtu', 'minggu']\n",
    "print (days[5])\n",
    "\n",
    "\n",
    "\n",
    "del(days[0])\n",
    "\n",
    "\n",
    "\n",
    "days.append('minggu1')\n",
    "\n",
    "print(days)\n",
    "\n",
    "#dictonary \n",
    "siswa = {'0001': 'Budi', '0002': 'Ani', '0003': 'Siti'}\n",
    "\n",
    "print(siswa['0002'])\n",
    "del(siswa['0001'])\n",
    "\n",
    "\n",
    "print(siswa)\n",
    "\n"
   ]
  },
  {
   "cell_type": "code",
   "execution_count": null,
   "id": "2be3fe16",
   "metadata": {},
   "outputs": [],
   "source": []
  },
  {
   "cell_type": "code",
   "execution_count": 19,
   "id": "0f0f7bdb",
   "metadata": {},
   "outputs": [
    {
     "name": "stdout",
     "output_type": "stream",
     "text": [
      "['__add__', '__class__', '__class_getitem__', '__contains__', '__delattr__', '__delitem__', '__dir__', '__doc__', '__eq__', '__format__', '__ge__', '__getattribute__', '__getitem__', '__getstate__', '__gt__', '__hash__', '__iadd__', '__imul__', '__init__', '__init_subclass__', '__iter__', '__le__', '__len__', '__lt__', '__mul__', '__ne__', '__new__', '__reduce__', '__reduce_ex__', '__repr__', '__reversed__', '__rmul__', '__setattr__', '__setitem__', '__sizeof__', '__str__', '__subclasshook__', 'append', 'clear', 'copy', 'count', 'extend', 'index', 'insert', 'pop', 'remove', 'reverse', 'sort']\n",
      "Built-in mutable sequence.\n",
      "\n",
      "If no argument is given, the constructor creates a new empty list.\n",
      "The argument must be an iterable if specified.\n"
     ]
    }
   ],
   "source": [
    "print(dir(days))\n",
    "\n",
    "print(days.__doc__)"
   ]
  },
  {
   "cell_type": "code",
   "execution_count": null,
   "id": "111b0195",
   "metadata": {},
   "outputs": [],
   "source": [
    "siswatuple = ('0001', '0002','0003')\n",
    "\n",
    "print(siswatuple[1])\n",
    "\n",
    "b.count()"
   ]
  },
  {
   "cell_type": "code",
   "execution_count": 20,
   "id": "5e2d02ca",
   "metadata": {},
   "outputs": [],
   "source": [
    "data_mahasiswa = [\n",
    "    (\"Alice\", \"85\", True, [\"Python\", \"Java\"]),\n",
    "    (\"Bob\", \"92.5\", False, [\"HTML\", \"CSS\", \"JS\"]),\n",
    "    (\"Charlie\", \"78\", True, [\"SQL\", \"Python\"]),\n",
    "    \"total_mahasiswa:3,semester:5\"\n",
    "]"
   ]
  },
  {
   "cell_type": "code",
   "execution_count": 21,
   "id": "f8de82a2",
   "metadata": {},
   "outputs": [],
   "source": [
    "product_data = {\n",
    "    \"produk\": {\n",
    "        \"elektronik\": [(\"laptop\", 15000000), (\"mouse\", 150000), (\"keyboard\", 300000)],\n",
    "        \"makanan\": [(\"roti\", 5000), (\"susu\", 12000), (\"telur\", 25000)]\n",
    "    },\n",
    "    \"diskon\": {\"elektronik\": 0.1, \"makanan\": 0.05},\n",
    "    \"stok\": \"laptop:5,mouse:20,keyboard:8,roti:50,susu:30,telur:100\"\n",
    "}\n"
   ]
  },
  {
   "cell_type": "markdown",
   "id": "7a9d7761",
   "metadata": {},
   "source": [
    "# TODO:\n",
    "\n",
    "# 1. Hitung total harga semua produk elektronik setelah diskon\n",
    "\n",
    "# 2. Parse string stok menjadi dictionary dengan value bertipe data integer\n",
    "\n",
    "# 3. Cari produk dengan stok paling banyak\n"
   ]
  },
  {
   "cell_type": "code",
   "execution_count": 25,
   "id": "6da7a8ff",
   "metadata": {},
   "outputs": [
    {
     "name": "stdout",
     "output_type": "stream",
     "text": [
      "Rp :  13905000.0\n"
     ]
    }
   ],
   "source": [
    "total_harga_awal_elektronik = sum(harga for produk, harga in product_data[\"produk\"][\"elektronik\"])\n",
    "diskon_elektronik = product_data[\"diskon\"][\"elektronik\"]\n",
    "harga_setelah_diskon = total_harga_awal_elektronik * (1 - diskon_elektronik)\n",
    "\n",
    "print(\"Rp : \", harga_setelah_diskon)"
   ]
  },
  {
   "cell_type": "code",
   "execution_count": null,
   "id": "94d1dd78",
   "metadata": {},
   "outputs": [],
   "source": []
  },
  {
   "cell_type": "code",
   "execution_count": 27,
   "id": "f4248839",
   "metadata": {},
   "outputs": [
    {
     "name": "stdout",
     "output_type": "stream",
     "text": [
      "{'laptop': 5, 'mouse': 20, 'keyboard': 8, 'roti': 50, 'susu': 30, 'telur': 100}\n"
     ]
    }
   ],
   "source": [
    "#2. Parse string stok menjadi dictionary dengan value bertipe data integer\n",
    "stok_string = product_data[\"stok\"]\n",
    "stok_dict = dict(item.split(\":\") for item in stok_string.split(\",\"))\n",
    "stok_dict = {produk: int(jumlah) for produk, jumlah in stok_dict.items()}\n",
    "\n",
    "print(stok_dict)"
   ]
  },
  {
   "cell_type": "code",
   "execution_count": 28,
   "id": "036825b1",
   "metadata": {},
   "outputs": [
    {
     "name": "stdout",
     "output_type": "stream",
     "text": [
      "Produk dengan stok paling banyak: telur\n"
     ]
    }
   ],
   "source": [
    "#cari produk dengan stok paling banyak\n",
    "produk_terlaris = max(stok_dict, key=stok_dict.get)\n",
    "print(\"Produk dengan stok paling banyak:\", produk_terlaris)"
   ]
  },
  {
   "cell_type": "code",
   "execution_count": null,
   "id": "ca62d7ec",
   "metadata": {},
   "outputs": [
    {
     "name": "stdout",
     "output_type": "stream",
     "text": [
      "Daftar Produk Elektronik:\n",
      "- laptop: Rp 15,000,000\n",
      "- mouse: Rp 150,000\n",
      "- keyboard: Rp 300,000\n",
      "------------------------------\n",
      "Total Harga Awal Elektronik: Rp 15,450,000\n",
      "Diskon: 10%\n",
      "Harga Akhir Setelah Diskon: Rp 13,905,000\n"
     ]
    }
   ],
   "source": [
    "\n",
    "\n",
    "total_harga_awal_elektronik = sum(harga for produk, harga in product_data[\"produk\"][\"elektronik\"])\n",
    "\n",
    "# 2. Mengambil nilai diskon untuk kategori \"elektronik\".\n",
    "#    Nilai diskon direpresentasikan sebagai desimal (0.10 berarti 10%).\n",
    "diskon_elektronik = product_data[\"diskon\"][\"elektronik\"]\n",
    "\n",
    "# 3. Menghitung harga akhir setelah diskon diterapkan.\n",
    "#Harga Awal * (1 - Persentase Diskon)\n",
    "#    Contoh: 100.000 * (1 - 0.10) = 100.000 * 0.90 = 90.000\n",
    "harga_setelah_diskon = total_harga_awal_elektronik * (1 - diskon_elektronik)\n",
    "\n",
    "# --- Akhir Baris Kode Anda ---\n",
    "\n",
    "\n",
    "# Menampilkan hasil perhitungan agar mudah dibaca\n",
    "print(f\"Daftar Produk Elektronik:\")\n",
    "for produk, harga in product_data[\"produk\"][\"elektronik\"]:\n",
    "    print(f\"- {produk}: Rp {harga:,.0f}\")\n",
    "\n",
    "print(\"-\" * 30)\n",
    "print(f\"Total Harga Awal Elektronik: Rp {total_harga_awal_elektronik:,.0f}\")\n",
    "print(f\"Diskon: {diskon_elektronik * 100:.0f}%\")\n",
    "print(f\"Harga Akhir Setelah Diskon: Rp {harga_setelah_diskon:,.0f}\")\n"
   ]
  },
  {
   "cell_type": "code",
   "execution_count": null,
   "id": "d8f58ed3",
   "metadata": {},
   "outputs": [],
   "source": [
    "data_mahasiswa = [\n",
    "    (\"Alice\", \"85\", True, [\"Python\", \"Java\"]),\n",
    "    (\"Bob\", \"92.5\", False, [\"HTML\", \"CSS\", \"JS\"]),\n",
    "    (\"Charlie\", \"78\", True, [\"SQL\", \"Python\"]),\n",
    "    \"total_mahasiswa:3,semester:5\"\n",
    "]\n",
    "\n",
    "# TODO:\n",
    "# 1. Unpack data mahasiswa pertama dan convert nilai ke float\n",
    "\n",
    "# 2. Hitung rata-rata nilai dari 3 mahasiswa\n",
    "# 3. Parse string terakhir menjadi dictionary\n",
    "# 4. Gabungkan semua skill unik dari mahasiswa aktif (status=True), hasil akhir dalam bentuk list\n"
   ]
  },
  {
   "cell_type": "code",
   "execution_count": 39,
   "id": "2aad6cac",
   "metadata": {},
   "outputs": [
    {
     "name": "stdout",
     "output_type": "stream",
     "text": [
      "('Alice', '85', True, ['Python', 'Java'])\n",
      "85.0\n"
     ]
    }
   ],
   "source": [
    "mhs1 = data_mahasiswa[0]\n",
    "print(mhs1)\n",
    "\n",
    "nilai_mhs1 = float(mhs1[1])\n",
    "print(nilai_mhs1)\n"
   ]
  },
  {
   "cell_type": "code",
   "execution_count": 41,
   "id": "215e85a0",
   "metadata": {},
   "outputs": [
    {
     "name": "stdout",
     "output_type": "stream",
     "text": [
      "85.16666666666667\n"
     ]
    }
   ],
   "source": [
    "# 2. Hitung rata-rata nilai dari 3 mahasiswa\n",
    "mhs = data_mahasiswa[:3]  # Ambil hanya tuple mahasiswa\n",
    "rata_rata = sum(float(mhs[i][1]) for i in range(len(mhs))) / len(mhs)\n",
    "print(rata_rata)\n"
   ]
  },
  {
   "cell_type": "code",
   "execution_count": 46,
   "id": "fabf5146",
   "metadata": {},
   "outputs": [
    {
     "name": "stdout",
     "output_type": "stream",
     "text": [
      "total_mahasiswa:3,semester:5\n",
      "{'total_mahasiswa': '3', 'semester': '5'}\n"
     ]
    }
   ],
   "source": [
    "# 3. Parse string terakhir menjadi dictionary\n",
    "last_string = data_mahasiswa[-1]\n",
    "print(last_string)\n",
    "last_string = dict(item.split(\":\") for item in last_string.split(\",\"))\n",
    "\n",
    "print(last_string)"
   ]
  },
  {
   "cell_type": "code",
   "execution_count": 50,
   "id": "49b77325",
   "metadata": {},
   "outputs": [
    {
     "name": "stdout",
     "output_type": "stream",
     "text": [
      "[]\n"
     ]
    }
   ],
   "source": [
    "# 4. Gabungkan semua skill unik dari mahasiswa aktif (status=True), hasil akhir dalam bentuk list\n",
    "skills = set()\n",
    "for mhs in data_mahasiswa:\n",
    "    if mhs[3] == 'True':\n",
    "        skills.update(skill.strip() for skill in mhs['skills'].split(\",\"))\n",
    "        \n",
    "print(list(skills))"
   ]
  }
 ],
 "metadata": {
  "kernelspec": {
   "display_name": ".venv",
   "language": "python",
   "name": "python3"
  },
  "language_info": {
   "codemirror_mode": {
    "name": "ipython",
    "version": 3
   },
   "file_extension": ".py",
   "mimetype": "text/x-python",
   "name": "python",
   "nbconvert_exporter": "python",
   "pygments_lexer": "ipython3",
   "version": "3.12.4"
  }
 },
 "nbformat": 4,
 "nbformat_minor": 5
}
